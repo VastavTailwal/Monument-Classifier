{
  "cells": [
    {
      "cell_type": "markdown",
      "metadata": {
        "id": "gudc-me0AmU5"
      },
      "source": [
        "# Mounting"
      ]
    },
    {
      "cell_type": "code",
      "execution_count": 1,
      "metadata": {
        "colab": {
          "base_uri": "https://localhost:8080/"
        },
        "id": "3rvrdGwXAktT",
        "outputId": "c49fd362-29e6-4b3c-efa9-1e13655a1536"
      },
      "outputs": [
        {
          "output_type": "stream",
          "name": "stdout",
          "text": [
            "Mounted at /content/gdrive\n"
          ]
        }
      ],
      "source": [
        "from google.colab import drive\n",
        "drive.mount('/content/gdrive')"
      ]
    },
    {
      "cell_type": "markdown",
      "metadata": {
        "id": "eekNmiqF-ty6"
      },
      "source": [
        "# Training"
      ]
    },
    {
      "cell_type": "code",
      "execution_count": 2,
      "metadata": {
        "id": "krC_xt7W9ZcM"
      },
      "outputs": [],
      "source": [
        "from tensorflow.keras.models import Sequential\n",
        "from tensorflow.keras.layers import Conv2D\n",
        "from tensorflow.keras.layers import MaxPool2D\n",
        "from tensorflow.keras.layers import Flatten\n",
        "from tensorflow.keras.layers import Dense\n",
        "from tensorflow.keras.layers import BatchNormalization\n",
        "from tensorflow.keras.layers import Dropout\n",
        "from tensorflow.keras.preprocessing.image import ImageDataGenerator"
      ]
    },
    {
      "cell_type": "code",
      "source": [
        "from tensorflow.keras.applications import ResNet152V2\n",
        "from tensorflow.keras.callbacks import EarlyStopping"
      ],
      "metadata": {
        "id": "ryuRcSZ3lkt8"
      },
      "execution_count": 41,
      "outputs": []
    },
    {
      "cell_type": "code",
      "source": [
        "resnet_base = ResNet152V2(\n",
        "    include_top=False,\n",
        "    input_shape=(64, 64, 3)\n",
        ")\n",
        "resnet_base.trainable = False"
      ],
      "metadata": {
        "colab": {
          "base_uri": "https://localhost:8080/"
        },
        "id": "MKaZKtanlvea",
        "outputId": "f54145e8-9f6f-4ff2-9555-f7630c7f3e82"
      },
      "execution_count": 37,
      "outputs": [
        {
          "output_type": "stream",
          "name": "stdout",
          "text": [
            "Downloading data from https://storage.googleapis.com/tensorflow/keras-applications/resnet/resnet152v2_weights_tf_dim_ordering_tf_kernels_notop.h5\n",
            "234545216/234545216 [==============================] - 2s 0us/step\n"
          ]
        }
      ]
    },
    {
      "cell_type": "code",
      "execution_count": 42,
      "metadata": {
        "id": "bivNj01g92ey",
        "colab": {
          "base_uri": "https://localhost:8080/"
        },
        "outputId": "80f41b72-c90c-48c4-d0e7-f2e1e8ba9d26"
      },
      "outputs": [
        {
          "output_type": "stream",
          "name": "stdout",
          "text": [
            "Model: \"sequential_6\"\n",
            "_________________________________________________________________\n",
            " Layer (type)                Output Shape              Param #   \n",
            "=================================================================\n",
            " resnet152v2 (Functional)    (None, 2, 2, 2048)        58331648  \n",
            "                                                                 \n",
            " flatten_7 (Flatten)         (None, 8192)              0         \n",
            "                                                                 \n",
            " dense_26 (Dense)            (None, 4096)              33558528  \n",
            "                                                                 \n",
            " dense_27 (Dense)            (None, 2148)              8800356   \n",
            "                                                                 \n",
            " dropout_11 (Dropout)        (None, 2148)              0         \n",
            "                                                                 \n",
            " dense_28 (Dense)            (None, 2148)              4616052   \n",
            "                                                                 \n",
            " dense_29 (Dense)            (None, 1024)              2200576   \n",
            "                                                                 \n",
            " dropout_12 (Dropout)        (None, 1024)              0         \n",
            "                                                                 \n",
            " dense_30 (Dense)            (None, 512)               524800    \n",
            "                                                                 \n",
            " dense_31 (Dense)            (None, 128)               65664     \n",
            "                                                                 \n",
            " dropout_13 (Dropout)        (None, 128)               0         \n",
            "                                                                 \n",
            " dense_32 (Dense)            (None, 49)                6321      \n",
            "                                                                 \n",
            "=================================================================\n",
            "Total params: 108103945 (412.38 MB)\n",
            "Trainable params: 49772297 (189.87 MB)\n",
            "Non-trainable params: 58331648 (222.52 MB)\n",
            "_________________________________________________________________\n"
          ]
        }
      ],
      "source": [
        "model = Sequential([\n",
        "  resnet_base,\n",
        "  Flatten(),\n",
        "  Dense(4096, activation='relu'),\n",
        "  Dense(2148, activation='relu'),\n",
        "  Dropout(0.25),\n",
        "  Dense(2148, activation='relu'),\n",
        "  Dense(1024, activation='relu'),\n",
        "  Dropout(0.25),\n",
        "  Dense(512, activation='relu'),\n",
        "  Dense(128, activation='relu'),\n",
        "  Dropout(0.25),\n",
        "  Dense(units=49, activation='softmax')\n",
        "])\n",
        "\n",
        "model.compile(loss='categorical_crossentropy', optimizer='adam', metrics=['accuracy'])\n",
        "model.summary()"
      ]
    },
    {
      "cell_type": "code",
      "execution_count": 6,
      "metadata": {
        "colab": {
          "base_uri": "https://localhost:8080/"
        },
        "id": "EMa1AiaJ-LBK",
        "outputId": "0c4a4f8e-ebda-45c7-dcb2-f2f0cb451285"
      },
      "outputs": [
        {
          "output_type": "stream",
          "name": "stdout",
          "text": [
            "Found 1925 images belonging to 49 classes.\n",
            "Found 623 images belonging to 49 classes.\n"
          ]
        }
      ],
      "source": [
        "train_datagen = ImageDataGenerator(rescale = 1./255,\n",
        "                                   shear_range = 0.2,\n",
        "                                   zoom_range = 0.5,\n",
        "                                   horizontal_flip = True)\n",
        "\n",
        "test_datagen = ImageDataGenerator(rescale = 1./255)\n",
        "\n",
        "training_set = train_datagen.flow_from_directory(r'/content/gdrive/MyDrive/Monument Classifier/datasets/train',\n",
        "                                                  target_size = (64, 64),\n",
        "                                                  batch_size = 256,\n",
        "                                                  class_mode = 'categorical')\n",
        "\n",
        "test_set = test_datagen.flow_from_directory(r'/content/gdrive/MyDrive/Monument Classifier/datasets/test',\n",
        "                                              target_size = (64, 64),\n",
        "                                                batch_size = 256,\n",
        "                                                class_mode = 'categorical')"
      ]
    },
    {
      "cell_type": "code",
      "execution_count": 7,
      "metadata": {
        "colab": {
          "base_uri": "https://localhost:8080/"
        },
        "id": "MSsNYk9wxPFQ",
        "outputId": "49e539af-72a2-4dde-b10f-902c64837a4e"
      },
      "outputs": [
        {
          "output_type": "stream",
          "name": "stdout",
          "text": [
            "Training set available <keras.src.preprocessing.image.DirectoryIterator object at 0x7afc3ece62c0>\n",
            "Test set available <keras.src.preprocessing.image.DirectoryIterator object at 0x7afc3ece4f70>\n"
          ]
        }
      ],
      "source": [
        "if(training_set):\n",
        "  print(\"Training set available\", training_set)\n",
        "\n",
        "if(test_set):\n",
        "  print(\"Test set available\", test_set)"
      ]
    },
    {
      "cell_type": "code",
      "execution_count": 44,
      "metadata": {
        "colab": {
          "base_uri": "https://localhost:8080/"
        },
        "id": "25f2LEjX-ZMc",
        "outputId": "842c9a5b-0bc9-4c98-8b93-0a743ad86898"
      },
      "outputs": [
        {
          "output_type": "stream",
          "name": "stdout",
          "text": [
            "Epoch 1/100\n",
            "8/8 [==============================] - 9s 1s/step - loss: 1.0449 - accuracy: 0.7314 - val_loss: 1.5133 - val_accuracy: 0.6356\n",
            "Epoch 2/100\n",
            "8/8 [==============================] - 7s 926ms/step - loss: 1.0071 - accuracy: 0.7455 - val_loss: 1.4625 - val_accuracy: 0.6597\n",
            "Epoch 3/100\n",
            "8/8 [==============================] - 8s 1s/step - loss: 1.0519 - accuracy: 0.7397 - val_loss: 1.4495 - val_accuracy: 0.6501\n",
            "Epoch 4/100\n",
            "8/8 [==============================] - 7s 909ms/step - loss: 0.9081 - accuracy: 0.7683 - val_loss: 1.4112 - val_accuracy: 0.6774\n",
            "Epoch 5/100\n",
            "8/8 [==============================] - 8s 979ms/step - loss: 0.9202 - accuracy: 0.7855 - val_loss: 1.4379 - val_accuracy: 0.6742\n",
            "Epoch 6/100\n",
            "8/8 [==============================] - 8s 1s/step - loss: 0.8234 - accuracy: 0.8000 - val_loss: 1.3160 - val_accuracy: 0.6934\n",
            "Epoch 7/100\n",
            "8/8 [==============================] - 7s 925ms/step - loss: 0.7979 - accuracy: 0.7953 - val_loss: 1.3582 - val_accuracy: 0.6677\n",
            "Epoch 8/100\n",
            "8/8 [==============================] - 8s 945ms/step - loss: 0.7783 - accuracy: 0.8130 - val_loss: 1.3837 - val_accuracy: 0.7111\n",
            "Epoch 9/100\n",
            "8/8 [==============================] - 9s 1s/step - loss: 0.7626 - accuracy: 0.8151 - val_loss: 1.3954 - val_accuracy: 0.6742\n",
            "Epoch 10/100\n",
            "8/8 [==============================] - 7s 909ms/step - loss: 0.6889 - accuracy: 0.8275 - val_loss: 1.3101 - val_accuracy: 0.7079\n",
            "Epoch 11/100\n",
            "8/8 [==============================] - 8s 1s/step - loss: 0.7632 - accuracy: 0.8145 - val_loss: 1.3359 - val_accuracy: 0.6822\n",
            "Epoch 12/100\n",
            "8/8 [==============================] - 7s 919ms/step - loss: 0.7153 - accuracy: 0.8369 - val_loss: 1.3746 - val_accuracy: 0.7111\n",
            "Epoch 13/100\n",
            "8/8 [==============================] - 7s 898ms/step - loss: 0.7275 - accuracy: 0.8249 - val_loss: 1.3785 - val_accuracy: 0.7014\n",
            "Epoch 14/100\n",
            "8/8 [==============================] - 8s 1s/step - loss: 0.6584 - accuracy: 0.8473 - val_loss: 1.4028 - val_accuracy: 0.6934\n",
            "Epoch 15/100\n",
            "8/8 [==============================] - 7s 923ms/step - loss: 0.6555 - accuracy: 0.8431 - val_loss: 1.4697 - val_accuracy: 0.6902\n",
            "Epoch 16/100\n",
            "8/8 [==============================] - 8s 921ms/step - loss: 0.7177 - accuracy: 0.8364 - val_loss: 1.4837 - val_accuracy: 0.6886\n",
            "Epoch 17/100\n",
            "8/8 [==============================] - 9s 1s/step - loss: 0.6097 - accuracy: 0.8577 - val_loss: 1.3684 - val_accuracy: 0.6902\n",
            "Epoch 18/100\n",
            "8/8 [==============================] - 8s 986ms/step - loss: 0.5697 - accuracy: 0.8519 - val_loss: 1.3795 - val_accuracy: 0.6950\n",
            "Epoch 19/100\n",
            "8/8 [==============================] - 8s 1s/step - loss: 0.5768 - accuracy: 0.8603 - val_loss: 1.3454 - val_accuracy: 0.7095\n",
            "Epoch 20/100\n",
            "8/8 [==============================] - 7s 921ms/step - loss: 0.5801 - accuracy: 0.8681 - val_loss: 1.3211 - val_accuracy: 0.7159\n",
            "Epoch 21/100\n",
            "8/8 [==============================] - 8s 1s/step - loss: 0.5874 - accuracy: 0.8623 - val_loss: 1.3129 - val_accuracy: 0.7223\n",
            "Epoch 22/100\n",
            "8/8 [==============================] - 7s 923ms/step - loss: 0.5705 - accuracy: 0.8556 - val_loss: 1.4374 - val_accuracy: 0.7014\n",
            "Epoch 23/100\n",
            "8/8 [==============================] - 8s 997ms/step - loss: 0.6270 - accuracy: 0.8499 - val_loss: 1.2891 - val_accuracy: 0.7271\n"
          ]
        }
      ],
      "source": [
        "history = model.fit(training_set, validation_data=test_set, epochs=100, callbacks=[EarlyStopping(monitor='accuracy', patience=3)])"
      ]
    },
    {
      "cell_type": "code",
      "source": [
        "from matplotlib import pyplot as plt\n",
        "\n",
        "fig, (ax1, ax2) = plt.subplots(1, 2, figsize=(12, 5))\n",
        "\n",
        "plt.xlim([0, 25])\n",
        "plt.ylim([0, 1])\n",
        "fig.suptitle('model performance')\n",
        "\n",
        "ax1.plot(history.history['loss'], label='training')\n",
        "ax1.plot(history.history['val_loss'], label='validation')\n",
        "ax1.set_xlabel('epochs')\n",
        "ax1.set_ylabel('loss')\n",
        "ax1.legend()\n",
        "\n",
        "ax2.plot(history.history['accuracy'], label='training')\n",
        "ax2.plot(history.history['val_accuracy'], label='validation')\n",
        "ax2.set_xlabel('epochs')\n",
        "ax2.set_ylabel('accuracy')\n",
        "ax2.legend()\n",
        "\n",
        "fig.show()"
      ],
      "metadata": {
        "colab": {
          "base_uri": "https://localhost:8080/",
          "height": 515
        },
        "id": "D4FEg5AifW_h",
        "outputId": "2b9bc384-aeca-4ae4-c0f0-1822483c8cf1"
      },
      "execution_count": 52,
      "outputs": [
        {
          "output_type": "display_data",
          "data": {
            "text/plain": [
              "<Figure size 1200x500 with 2 Axes>"
            ],
            "image/png": "[encoded data removed]"
          },
          "metadata": {}
        }
      ]
    },
    {
      "cell_type": "code",
      "execution_count": 53,
      "metadata": {
        "colab": {
          "base_uri": "https://localhost:8080/"
        },
        "id": "RAw9oPjIujy3",
        "outputId": "d38f1224-7b74-4c8f-e961-4cfae63f7ca5"
      },
      "outputs": [
        {
          "output_type": "stream",
          "name": "stderr",
          "text": [
            "/usr/local/lib/python3.10/dist-packages/keras/src/engine/training.py:3000: UserWarning: You are saving your model as an HDF5 file via `model.save()`. This file format is considered legacy. We recommend using instead the native Keras format, e.g. `model.save('my_model.keras')`.\n",
            "  saving_api.save_model(\n"
          ]
        }
      ],
      "source": [
        "model.save(\"model.h5\")"
      ]
    },
    {
      "cell_type": "markdown",
      "metadata": {
        "id": "IL8bVrWL-qnb"
      },
      "source": [
        "# Prediction"
      ]
    },
    {
      "cell_type": "code",
      "execution_count": 56,
      "metadata": {
        "id": "waZIsLg1-pdC"
      },
      "outputs": [],
      "source": [
        "from keras.models import load_model\n",
        "from keras.preprocessing import image\n",
        "import numpy as np\n",
        "\n",
        "\n",
        "model = load_model(\"/content/model.h5\")"
      ]
    },
    {
      "cell_type": "code",
      "source": [
        "sample = image.load_img(\"/content/gdrive/MyDrive/Monument Classifier/datasets/train/Aga Khan Palace/Aga Khan Palace24.jpg\")\n",
        "x = image.img_to_array(sample)\n",
        "x = np.expand_dims(x, axis=0)\n",
        "\n",
        "images = np.vstack([x])\n",
        "pred = model.predict(images)"
      ],
      "metadata": {
        "colab": {
          "base_uri": "https://localhost:8080/"
        },
        "id": "8frR2bAs3arv",
        "outputId": "9f1f2d8e-841b-4b1e-bdbb-2fbbb67eaf40"
      },
      "execution_count": 72,
      "outputs": [
        {
          "output_type": "stream",
          "name": "stdout",
          "text": [
            "1/1 [==============================] - 0s 38ms/step\n"
          ]
        }
      ]
    },
    {
      "cell_type": "code",
      "source": [
        "np.argmax(pred)"
      ],
      "metadata": {
        "colab": {
          "base_uri": "https://localhost:8080/"
        },
        "id": "2DBjdYnV4-2-",
        "outputId": "cd932fcf-1163-4c1f-f7cc-b0a3f9f33612"
      },
      "execution_count": 73,
      "outputs": [
        {
          "output_type": "execute_result",
          "data": {
            "text/plain": [
              "18"
            ]
          },
          "metadata": {},
          "execution_count": 73
        }
      ]
    },
    {
      "cell_type": "code",
      "source": [],
      "metadata": {
        "id": "8ghBAPf46PC0"
      },
      "execution_count": null,
      "outputs": []
    }
  ],
  "metadata": {
    "colab": {
      "provenance": [],
      "gpuType": "T4"
    },
    "kernelspec": {
      "display_name": "Python 3",
      "name": "python3"
    },
    "language_info": {
      "name": "python"
    },
    "accelerator": "GPU"
  },
  "nbformat": 4,
  "nbformat_minor": 0
}